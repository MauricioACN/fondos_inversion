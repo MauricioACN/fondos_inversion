{
 "metadata": {
  "language_info": {
   "codemirror_mode": {
    "name": "ipython",
    "version": 3
   },
   "file_extension": ".py",
   "mimetype": "text/x-python",
   "name": "python",
   "nbconvert_exporter": "python",
   "pygments_lexer": "ipython3",
   "version": "3.7.9-final"
  },
  "orig_nbformat": 2,
  "kernelspec": {
   "name": "python3",
   "display_name": "Python 3.7.9 64-bit ('fondos')",
   "metadata": {
    "interpreter": {
     "hash": "c4a310faf684fa18a44de147febc71c9c24c37a28b837f0a7d0869357581dc92"
    }
   }
  }
 },
 "nbformat": 4,
 "nbformat_minor": 2,
 "cells": [
  {
   "cell_type": "code",
   "execution_count": null,
   "metadata": {},
   "outputs": [],
   "source": [
    "import os\n",
    "import secrets_acces as sa"
   ]
  },
  {
   "cell_type": "code",
   "execution_count": null,
   "metadata": {},
   "outputs": [],
   "source": [
    "import boto3\n",
    "\n",
    "class AWSHelper:\n",
    "\n",
    "    def __init__(self):\n",
    "        self.s3_connected = False\n",
    "        \n",
    "    def init_s3_session(self, aws_access_key_id, aws_secret_access_key):\n",
    "         self.s3_connected = True\n",
    "         self.s3_connection = boto3.client('s3', \n",
    "                    aws_access_key_id=aws_access_key_id,\n",
    "                    aws_secret_access_key=aws_secret_access_key\n",
    "                    )\n",
    "         return print(\"Conexión Exitosa!\")\n",
    "\n",
    "    def call_s3_data(self, bucket_name, file_name, download_name):\n",
    "        if self.s3_connected:\n",
    "            self.s3_connection.Object(bucket_name=bucket_name, key=file_name).download_file(download_name)\n",
    "        else:\n",
    "            raise ConnectionError(\"Open S3 Connection before trying to get data!\")\n",
    "            \n",
    "    def load_s3_data(self, bucket, file_name):\n",
    "         if self.s3_connected:\n",
    "            self.s3_connection.Object(bucket_name=bucket, key=file_name).upload_file(file_name)\n",
    "         else:\n",
    "            raise ConnectionError(\"Open S3 Connection before trying to push data!\")"
   ]
  },
  {
   "cell_type": "code",
   "execution_count": 28,
   "metadata": {},
   "outputs": [],
   "source": [
    "import requests\n",
    "import urllib3\n",
    "import pandas as pd\n",
    "import re\n",
    "from urllib3.exceptions import InsecureRequestWarning\n",
    "urllib3.disable_warnings(InsecureRequestWarning)\n",
    "\n",
    "class ConsultasApi:\n",
    "\n",
    "    URLFONDOS=\"https://fiduciaria.grupobancolombia.com/consultarFondosInversion/rest/servicio/consultarListaFondos\"\n",
    "    URLRENTABILIDADES = \"https://fiduciaria.grupobancolombia.com/consultarFondosInversion/rest/servicio/buscarInformacionFondo\"\n",
    "    VARIABLES = ['rentabilidad.anios.anioCorrido', 'rentabilidad.anios.ultimoAnio','rentabilidad.anios.ultimos2Anios','rentabilidad.anios.ultimos3Anios','rentabilidad.dias.mensual', 'rentabilidad.dias.semanal','rentabilidad.dias.semestral','valorDeUnidad', 'valorEnPesos']\n",
    "    payload={}\n",
    "    headers={}\n",
    "\n",
    "    def __init__(self):\n",
    "        self.datafondos = self.data_extract(self.URLFONDOS)\n",
    "        self.datarentabilidad = None\n",
    "        #self.origin_df_rent=None\n",
    "      \n",
    "    def _extraer_rentabilidades(self):\n",
    "        #base de rentabilidades y detalles de los fondos\n",
    "        base_escritura = pd.DataFrame()\n",
    "        #loop para extraer rentabilidades\n",
    "        for i in self.datafondos[\"nit\"]:\n",
    "            url_test = self.URLRENTABILIDADES+\"/\"+str(i)\n",
    "            data = self.data_extract(url = url_test)\n",
    "            base_escritura = base_escritura.append(data, sort = False)\n",
    "        \n",
    "        #self.origin_df_rent = self.origin_df_rent.append(base_escritura)\n",
    "        return base_escritura\n",
    "\n",
    "    def data_extract(self,url):\n",
    "        r_fondos = requests.get(url = url, headers=self.headers, data=self.payload,verify = False)\n",
    "        data_fondos = r_fondos.json()\n",
    "        data_fondos = pd.json_normalize(data_fondos)\n",
    "        data_fondos.drop_duplicates(inplace=True)\n",
    "        data_fondos['nit'] = data_fondos['nit'].astype('int64')\n",
    "        return data_fondos\n",
    "\n",
    "    def limpieza_data(self,dataframe):\n",
    "        dataframe_proccesing = dataframe.copy()\n",
    "        for i in self.VARIABLES:\n",
    "            dataframe_proccesing[i] = dataframe_proccesing[i].apply(lambda x: re.sub(r'\\,|\\.|\\$|\\%','',x)).astype(\"float64\")/100\n",
    "        return dataframe_proccesing\n",
    "\n",
    "    def preproccesing(self,df,vars_):\n",
    "\n",
    "        vars_pre = vars_.copy()\n",
    "        vars_pre.append('nit')\n",
    "        df_preproccesing = df[vars_pre]\n",
    "        df_preproccesing.drop_duplicates(inplace=True)\n",
    "        fondos = pd.merge(self.datafondos,df_preproccesing,on = \"nit\", how = 'left')\n",
    "        fondos.drop('nombre_y',axis =1,inplace = True)\n",
    "        fondos.rename(columns = {'nombre_x':'nombre'},inplace=True)\n",
    "        return fondos\n",
    "\n",
    "    def build(self):\n",
    "\n",
    "        vars = ['calificacion','plazo','sociedadAdministradora','nombre']\n",
    "\n",
    "        datarent = self._extraer_rentabilidades()\n",
    "        preproccesing = self.preproccesing(datarent,vars_ = vars)\n",
    "        self.datafondos = preproccesing\n",
    "        datarent.drop(vars,axis=1,inplace=True)\n",
    "        datarent = self.limpieza_data(datarent)\n",
    "        self.datarentabilidad = datarent\n",
    "\n",
    "        return self.datarentabilidad\n",
    "\n"
   ]
  },
  {
   "cell_type": "code",
   "execution_count": 29,
   "metadata": {},
   "outputs": [
    {
     "output_type": "execute_result",
     "data": {
      "text/plain": [
       "          nit  valorDeUnidad  valorEnPesos fechaCierre  \\\n",
       "0   800227622       23594.73  9.722232e+11    20210131   \n",
       "0   900000528       57090.34  5.942269e+10    20210131   \n",
       "0   900000531       31302.72  1.635152e+12    20210131   \n",
       "0   800244627       35335.76  1.818079e+12    20210131   \n",
       "0   900237003       16393.41  1.103207e+12    20210131   \n",
       "0   800180687       30863.18  1.533794e+13    20210131   \n",
       "0   800241308       15124.60  1.869356e+11    20210131   \n",
       "0  9004381462       15047.55  3.023414e+12    20210131   \n",
       "0  9004724683       12351.47  3.490237e+11    20210131   \n",
       "0  9006349247       24973.40  3.045324e+11    20210131   \n",
       "0  9008966743       14364.96  1.694258e+12    20210131   \n",
       "0  9009585538       15027.21  2.465732e+11    20210131   \n",
       "0  9013917439       10409.95  2.762218e+11    20210131   \n",
       "\n",
       "   rentabilidad.dias.semanal  rentabilidad.dias.mensual  \\\n",
       "0                       5.95                       8.79   \n",
       "0                     -91.35                     -53.80   \n",
       "0                       4.45                       9.49   \n",
       "0                       2.97                       5.34   \n",
       "0                      -0.01                       1.76   \n",
       "0                       0.26                       1.39   \n",
       "0                     -59.61                      -7.49   \n",
       "0                      -0.01                       1.95   \n",
       "0                     -90.84                     -54.07   \n",
       "0                     -47.31                      50.33   \n",
       "0                       3.61                       7.46   \n",
       "0                     -82.70                      -8.29   \n",
       "0                     -28.85                       2.38   \n",
       "\n",
       "   rentabilidad.dias.semestral  rentabilidad.anios.anioCorrido  \\\n",
       "0                         6.69                            9.02   \n",
       "0                        42.01                          -54.93   \n",
       "0                        10.08                            9.71   \n",
       "0                         4.23                            5.47   \n",
       "0                         2.09                            1.79   \n",
       "0                         1.74                            1.42   \n",
       "0                        16.84                           -7.73   \n",
       "0                         1.84                            1.92   \n",
       "0                        45.26                          -52.95   \n",
       "0                         6.29                           48.29   \n",
       "0                         5.84                            7.31   \n",
       "0                        30.79                           -8.04   \n",
       "0                         0.00                            2.31   \n",
       "\n",
       "   rentabilidad.anios.ultimoAnio  rentabilidad.anios.ultimos2Anios  \\\n",
       "0                           7.55                              6.77   \n",
       "0                         -11.79                             -1.80   \n",
       "0                          10.33                              9.36   \n",
       "0                           6.00                              5.50   \n",
       "0                           3.42                              3.58   \n",
       "0                           3.09                              3.39   \n",
       "0                           3.63                              6.27   \n",
       "0                           3.38                              3.62   \n",
       "0                         -12.41                             -2.67   \n",
       "0                          14.80                             17.07   \n",
       "0                           8.93                              7.17   \n",
       "0                           6.41                              8.94   \n",
       "0                           0.00                              0.00   \n",
       "\n",
       "   rentabilidad.anios.ultimos3Anios  \n",
       "0                              6.19  \n",
       "0                             -3.78  \n",
       "0                              8.16  \n",
       "0                              5.16  \n",
       "0                              3.54  \n",
       "0                              3.42  \n",
       "0                              3.77  \n",
       "0                              3.58  \n",
       "0                             -4.44  \n",
       "0                             11.68  \n",
       "0                              6.39  \n",
       "0                              2.72  \n",
       "0                              0.00  "
      ],
      "text/html": "<div>\n<style scoped>\n    .dataframe tbody tr th:only-of-type {\n        vertical-align: middle;\n    }\n\n    .dataframe tbody tr th {\n        vertical-align: top;\n    }\n\n    .dataframe thead th {\n        text-align: right;\n    }\n</style>\n<table border=\"1\" class=\"dataframe\">\n  <thead>\n    <tr style=\"text-align: right;\">\n      <th></th>\n      <th>nit</th>\n      <th>valorDeUnidad</th>\n      <th>valorEnPesos</th>\n      <th>fechaCierre</th>\n      <th>rentabilidad.dias.semanal</th>\n      <th>rentabilidad.dias.mensual</th>\n      <th>rentabilidad.dias.semestral</th>\n      <th>rentabilidad.anios.anioCorrido</th>\n      <th>rentabilidad.anios.ultimoAnio</th>\n      <th>rentabilidad.anios.ultimos2Anios</th>\n      <th>rentabilidad.anios.ultimos3Anios</th>\n    </tr>\n  </thead>\n  <tbody>\n    <tr>\n      <th>0</th>\n      <td>800227622</td>\n      <td>23594.73</td>\n      <td>9.722232e+11</td>\n      <td>20210131</td>\n      <td>5.95</td>\n      <td>8.79</td>\n      <td>6.69</td>\n      <td>9.02</td>\n      <td>7.55</td>\n      <td>6.77</td>\n      <td>6.19</td>\n    </tr>\n    <tr>\n      <th>0</th>\n      <td>900000528</td>\n      <td>57090.34</td>\n      <td>5.942269e+10</td>\n      <td>20210131</td>\n      <td>-91.35</td>\n      <td>-53.80</td>\n      <td>42.01</td>\n      <td>-54.93</td>\n      <td>-11.79</td>\n      <td>-1.80</td>\n      <td>-3.78</td>\n    </tr>\n    <tr>\n      <th>0</th>\n      <td>900000531</td>\n      <td>31302.72</td>\n      <td>1.635152e+12</td>\n      <td>20210131</td>\n      <td>4.45</td>\n      <td>9.49</td>\n      <td>10.08</td>\n      <td>9.71</td>\n      <td>10.33</td>\n      <td>9.36</td>\n      <td>8.16</td>\n    </tr>\n    <tr>\n      <th>0</th>\n      <td>800244627</td>\n      <td>35335.76</td>\n      <td>1.818079e+12</td>\n      <td>20210131</td>\n      <td>2.97</td>\n      <td>5.34</td>\n      <td>4.23</td>\n      <td>5.47</td>\n      <td>6.00</td>\n      <td>5.50</td>\n      <td>5.16</td>\n    </tr>\n    <tr>\n      <th>0</th>\n      <td>900237003</td>\n      <td>16393.41</td>\n      <td>1.103207e+12</td>\n      <td>20210131</td>\n      <td>-0.01</td>\n      <td>1.76</td>\n      <td>2.09</td>\n      <td>1.79</td>\n      <td>3.42</td>\n      <td>3.58</td>\n      <td>3.54</td>\n    </tr>\n    <tr>\n      <th>0</th>\n      <td>800180687</td>\n      <td>30863.18</td>\n      <td>1.533794e+13</td>\n      <td>20210131</td>\n      <td>0.26</td>\n      <td>1.39</td>\n      <td>1.74</td>\n      <td>1.42</td>\n      <td>3.09</td>\n      <td>3.39</td>\n      <td>3.42</td>\n    </tr>\n    <tr>\n      <th>0</th>\n      <td>800241308</td>\n      <td>15124.60</td>\n      <td>1.869356e+11</td>\n      <td>20210131</td>\n      <td>-59.61</td>\n      <td>-7.49</td>\n      <td>16.84</td>\n      <td>-7.73</td>\n      <td>3.63</td>\n      <td>6.27</td>\n      <td>3.77</td>\n    </tr>\n    <tr>\n      <th>0</th>\n      <td>9004381462</td>\n      <td>15047.55</td>\n      <td>3.023414e+12</td>\n      <td>20210131</td>\n      <td>-0.01</td>\n      <td>1.95</td>\n      <td>1.84</td>\n      <td>1.92</td>\n      <td>3.38</td>\n      <td>3.62</td>\n      <td>3.58</td>\n    </tr>\n    <tr>\n      <th>0</th>\n      <td>9004724683</td>\n      <td>12351.47</td>\n      <td>3.490237e+11</td>\n      <td>20210131</td>\n      <td>-90.84</td>\n      <td>-54.07</td>\n      <td>45.26</td>\n      <td>-52.95</td>\n      <td>-12.41</td>\n      <td>-2.67</td>\n      <td>-4.44</td>\n    </tr>\n    <tr>\n      <th>0</th>\n      <td>9006349247</td>\n      <td>24973.40</td>\n      <td>3.045324e+11</td>\n      <td>20210131</td>\n      <td>-47.31</td>\n      <td>50.33</td>\n      <td>6.29</td>\n      <td>48.29</td>\n      <td>14.80</td>\n      <td>17.07</td>\n      <td>11.68</td>\n    </tr>\n    <tr>\n      <th>0</th>\n      <td>9008966743</td>\n      <td>14364.96</td>\n      <td>1.694258e+12</td>\n      <td>20210131</td>\n      <td>3.61</td>\n      <td>7.46</td>\n      <td>5.84</td>\n      <td>7.31</td>\n      <td>8.93</td>\n      <td>7.17</td>\n      <td>6.39</td>\n    </tr>\n    <tr>\n      <th>0</th>\n      <td>9009585538</td>\n      <td>15027.21</td>\n      <td>2.465732e+11</td>\n      <td>20210131</td>\n      <td>-82.70</td>\n      <td>-8.29</td>\n      <td>30.79</td>\n      <td>-8.04</td>\n      <td>6.41</td>\n      <td>8.94</td>\n      <td>2.72</td>\n    </tr>\n    <tr>\n      <th>0</th>\n      <td>9013917439</td>\n      <td>10409.95</td>\n      <td>2.762218e+11</td>\n      <td>20210131</td>\n      <td>-28.85</td>\n      <td>2.38</td>\n      <td>0.00</td>\n      <td>2.31</td>\n      <td>0.00</td>\n      <td>0.00</td>\n      <td>0.00</td>\n    </tr>\n  </tbody>\n</table>\n</div>"
     },
     "metadata": {},
     "execution_count": 29
    }
   ],
   "source": [
    "prueba = ConsultasApi()\n",
    "prueba.build()"
   ]
  },
  {
   "cell_type": "code",
   "execution_count": 6,
   "metadata": {},
   "outputs": [
    {
     "output_type": "execute_result",
     "data": {
      "text/plain": [
       "__main__.ConsultasApi"
      ]
     },
     "metadata": {},
     "execution_count": 6
    }
   ],
   "source": []
  },
  {
   "cell_type": "code",
   "execution_count": null,
   "metadata": {},
   "outputs": [],
   "source": [
    "prueba.dataprocessing.head()"
   ]
  },
  {
   "cell_type": "code",
   "execution_count": null,
   "metadata": {},
   "outputs": [],
   "source": [
    "prueba.dataprocessing['plazo'].unique()[4].replace(u'dÃ\\xadas',u'días')"
   ]
  },
  {
   "cell_type": "code",
   "execution_count": null,
   "metadata": {},
   "outputs": [],
   "source": [
    "['aÂ¦o','dÃ\\xadas']"
   ]
  },
  {
   "cell_type": "code",
   "execution_count": null,
   "metadata": {},
   "outputs": [],
   "source": [
    "prueba.dataprocessing.groupby([\"nit\",\"plazo\"]).count()[\"fechaCierre\"].to_frame().reset_index()\n"
   ]
  },
  {
   "cell_type": "code",
   "execution_count": null,
   "metadata": {},
   "outputs": [],
   "source": [
    "prueba.dataprocessing[prueba.dataprocessing[\"plazo\"].isnull()][\"nit\"].unique()"
   ]
  },
  {
   "cell_type": "code",
   "execution_count": null,
   "metadata": {},
   "outputs": [],
   "source": [
    "prueba.datafondos.info()"
   ]
  },
  {
   "cell_type": "code",
   "execution_count": null,
   "metadata": {},
   "outputs": [],
   "source": [
    "df_preproccesing"
   ]
  },
  {
   "cell_type": "code",
   "execution_count": null,
   "metadata": {},
   "outputs": [],
   "source": [
    "df_preproccesing = prueba.dataprocessing[['calificacion','plazo','sociedadAdministradora','nombre','nit']].drop_duplicates()\n",
    "#prueba.datafondos['nit'] = prueba.datafondos['nit'].astype('int64')\n",
    "fondos = pd.merge(prueba.datafondos,df_preproccesing,on = \"nit\", how = 'left')\n",
    "fondos.drop('nombre_y',axis =1,inplace = True)\n",
    "fondos.rename(columns = {'nombre_x':'nombre'},inplace=True)"
   ]
  },
  {
   "cell_type": "code",
   "execution_count": null,
   "metadata": {},
   "outputs": [],
   "source": [
    "a = fondos['nit'][0]"
   ]
  },
  {
   "cell_type": "code",
   "execution_count": null,
   "metadata": {},
   "outputs": [],
   "source": []
  },
  {
   "cell_type": "code",
   "execution_count": null,
   "metadata": {},
   "outputs": [],
   "source": [
    "class DataClean:\n",
    "\n",
    "    def __init__(self):\n",
    "        pass\n",
    "\n",
    "    def limpieza_data(self,df):\n",
    "        pass\n",
    "\n",
    "    def \n"
   ]
  },
  {
   "cell_type": "code",
   "execution_count": null,
   "metadata": {},
   "outputs": [],
   "source": [
    "aws_llamados = AWSHelper()\n",
    "aws_llamados.init_s3_session(aws_access_key_id=sa.access_key_id,aws_secret_access_key=sa.secret_access_key)"
   ]
  },
  {
   "cell_type": "code",
   "execution_count": null,
   "metadata": {},
   "outputs": [],
   "source": [
    "# aws_llamados.call_s3_data( bucket_name=\"fondosinversion\",file_name=\"datarentabilidad.csv\",download_name=\"datarentabilidad.csv\")"
   ]
  },
  {
   "cell_type": "code",
   "execution_count": null,
   "metadata": {},
   "outputs": [],
   "source": [
    "datarentabilidad = pd.read_csv(\"datarentabilidad.csv\")"
   ]
  },
  {
   "cell_type": "code",
   "execution_count": null,
   "metadata": {},
   "outputs": [],
   "source": [
    "datarentabilidad.head()"
   ]
  },
  {
   "cell_type": "code",
   "execution_count": null,
   "metadata": {},
   "outputs": [],
   "source": [
    "datarentabilidad[\"fechaCierre\"].unique()"
   ]
  },
  {
   "cell_type": "code",
   "execution_count": null,
   "metadata": {},
   "outputs": [],
   "source": [
    "datarentabilidad.shape"
   ]
  },
  {
   "cell_type": "code",
   "execution_count": null,
   "metadata": {},
   "outputs": [],
   "source": [
    "prueba = datarentabilidad['rentabilidad.anios.ultimoAnio'].apply(lambda x: re.sub(r'\\,|\\.|\\$|\\%','',x)).astype(\"float64\")/100"
   ]
  },
  {
   "cell_type": "code",
   "execution_count": null,
   "metadata": {},
   "outputs": [],
   "source": [
    "prueba"
   ]
  },
  {
   "cell_type": "code",
   "execution_count": null,
   "metadata": {},
   "outputs": [],
   "source": []
  },
  {
   "cell_type": "code",
   "execution_count": null,
   "metadata": {},
   "outputs": [],
   "source": []
  },
  {
   "cell_type": "code",
   "execution_count": null,
   "metadata": {},
   "outputs": [],
   "source": []
  },
  {
   "cell_type": "code",
   "execution_count": null,
   "metadata": {},
   "outputs": [],
   "source": []
  },
  {
   "cell_type": "code",
   "execution_count": null,
   "metadata": {},
   "outputs": [],
   "source": []
  },
  {
   "cell_type": "code",
   "execution_count": null,
   "metadata": {},
   "outputs": [],
   "source": []
  }
 ]
}